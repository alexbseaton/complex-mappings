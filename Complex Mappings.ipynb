{
 "cells": [
  {
   "cell_type": "code",
   "execution_count": 38,
   "metadata": {},
   "outputs": [],
   "source": [
    "%matplotlib inline"
   ]
  },
  {
   "cell_type": "code",
   "execution_count": 58,
   "metadata": {},
   "outputs": [
    {
     "data": {
      "application/vnd.jupyter.widget-view+json": {
       "model_id": "9d7e753d6e164887b9048e17a6ba55b4",
       "version_major": 2,
       "version_minor": 0
      },
      "text/html": [
       "<p>Failed to display Jupyter Widget of type <code>interactive</code>.</p>\n",
       "<p>\n",
       "  If you're reading this message in the Jupyter Notebook or JupyterLab Notebook, it may mean\n",
       "  that the widgets JavaScript is still loading. If this message persists, it\n",
       "  likely means that the widgets JavaScript library is either not installed or\n",
       "  not enabled. See the <a href=\"https://ipywidgets.readthedocs.io/en/stable/user_install.html\">Jupyter\n",
       "  Widgets Documentation</a> for setup instructions.\n",
       "</p>\n",
       "<p>\n",
       "  If you're reading this message in another frontend (for example, a static\n",
       "  rendering on GitHub or <a href=\"https://nbviewer.jupyter.org/\">NBViewer</a>),\n",
       "  it may mean that your frontend doesn't currently support widgets.\n",
       "</p>\n"
      ],
      "text/plain": [
       "interactive(children=(Dropdown(description='fname', options=('elephant_parade.bmp', 'smiley.bmp', 'church.jpeg', 'm.bmp'), value='elephant_parade.bmp'), FloatSlider(value=0.0, description='exponent', max=3.0, min=-3.0), Dropdown(description='rad', options=(-1, 1), value=-1), FloatSlider(value=-0.04159265358979303, description='theta', max=3.141592653589793, min=-3.141592653589793), Button(description='Run Interact', style=ButtonStyle()), Output()), _dom_classes=('widget-interact',))"
      ]
     },
     "metadata": {},
     "output_type": "display_data"
    }
   ],
   "source": [
    "import matplotlib.pyplot as plt\n",
    "import matplotlib.image as mpimg\n",
    "from numpy import *\n",
    "import cmath\n",
    "from ipywidgets import interact_manual, interact\n",
    "import ipywidgets as widgets\n",
    "\n",
    "@interact_manual(fname=['elephant_parade.bmp','smiley.bmp','church.jpeg','m.bmp'], exponent=(-3,3,0.1), rad=[-1,1], theta=(-pi, pi, 0.1))\n",
    "def run(fname, exponent, rad, theta):\n",
    "    assert exponent != 0\n",
    "    f = lambda z: (z**exponent)*rad*exp(complex(0, theta))\n",
    "    img = mpimg.imread(fname)\n",
    "    X = img.shape[0]\n",
    "    Y = img.shape[1]\n",
    "    print(img.shape)\n",
    "    original_points = [complex(re ,im) for re in range(1, img.shape[0]) for im in range(1, img.shape[1])]\n",
    "\n",
    "    results = [f(z) for z in original_points]\n",
    "    min_re, min_im = min([z.real for z in results]), min([z.imag for z in results])\n",
    "    shifted = [z-complex(min_re, min_im) for z in results]\n",
    "\n",
    "    max_re, max_im = max([z.real for z in shifted]), max([z.imag for z in shifted])\n",
    "    result_to_input = [(complex(shifted[i].real*X/max_re, shifted[i].imag*Y/max_im), original_points[i]) for i in range(len(original_points))]\n",
    "\n",
    "    print(result_to_input[50])\n",
    "    r = ones((X+1, Y+1, img.shape[2]),dtype=uint8)*255 # empty-white image\n",
    "    for mapped, original in result_to_input:\n",
    "        r[int(mapped.real),int(mapped.imag),:] = img[int(original.real),int(original.imag),:]\n",
    "        \n",
    "    plt.figure(figsize=(10,10))\n",
    "    plt.subplot(121)\n",
    "    plt.imshow(img,origin='lower',aspect='auto')\n",
    "\n",
    "    plt.subplot(122)\n",
    "    plt.imshow(r,origin='lower',aspect='auto')\n",
    "    plt.show()"
   ]
  }
 ],
 "metadata": {
  "kernelspec": {
   "display_name": "Python 3",
   "language": "python",
   "name": "python3"
  },
  "language_info": {
   "codemirror_mode": {
    "name": "ipython",
    "version": 3
   },
   "file_extension": ".py",
   "mimetype": "text/x-python",
   "name": "python",
   "nbconvert_exporter": "python",
   "pygments_lexer": "ipython3",
   "version": "3.6.0"
  }
 },
 "nbformat": 4,
 "nbformat_minor": 2
}
