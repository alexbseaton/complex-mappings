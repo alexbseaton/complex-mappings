{
 "cells": [
  {
   "cell_type": "code",
   "execution_count": 13,
   "metadata": {},
   "outputs": [],
   "source": [
    "import numpy as np\n",
    "import matplotlib.pyplot as plt\n",
    "import ipywidgets as widgets"
   ]
  },
  {
   "cell_type": "code",
   "execution_count": 22,
   "metadata": {},
   "outputs": [
    {
     "data": {
      "application/vnd.jupyter.widget-view+json": {
       "model_id": "42865ad29b1242dfb4642f0b11ae5b25",
       "version_major": 2,
       "version_minor": 0
      },
      "text/html": [
       "<p>Failed to display Jupyter Widget of type <code>interactive</code>.</p>\n",
       "<p>\n",
       "  If you're reading this message in the Jupyter Notebook or JupyterLab Notebook, it may mean\n",
       "  that the widgets JavaScript is still loading. If this message persists, it\n",
       "  likely means that the widgets JavaScript library is either not installed or\n",
       "  not enabled. See the <a href=\"https://ipywidgets.readthedocs.io/en/stable/user_install.html\">Jupyter\n",
       "  Widgets Documentation</a> for setup instructions.\n",
       "</p>\n",
       "<p>\n",
       "  If you're reading this message in another frontend (for example, a static\n",
       "  rendering on GitHub or <a href=\"https://nbviewer.jupyter.org/\">NBViewer</a>),\n",
       "  it may mean that your frontend doesn't currently support widgets.\n",
       "</p>\n"
      ],
      "text/plain": [
       "interactive(children=(FloatSlider(value=5.0, description='f', max=10.0, min=1.0), Output()), _dom_classes=('widget-interact',))"
      ]
     },
     "metadata": {},
     "output_type": "display_data"
    },
    {
     "data": {
      "text/plain": [
       "<function __main__.pltsin>"
      ]
     },
     "execution_count": 22,
     "metadata": {},
     "output_type": "execute_result"
    }
   ],
   "source": [
    "from ipywidgets import interact\n",
    "\n",
    "t = np.arange(0.0, 1.0, 0.01)\n",
    "\n",
    "def pltsin(f):\n",
    "    plt.plot(t, np.tanh(2*np.pi*t*f))\n",
    "    plt.show()\n",
    "    \n",
    "interact(pltsin, f = (1,10,0.1))"
   ]
  },
  {
   "cell_type": "code",
   "execution_count": 14,
   "metadata": {},
   "outputs": [
    {
     "data": {
      "application/vnd.jupyter.widget-view+json": {
       "model_id": "f65d6039aae9413fb95ce406bc126a67",
       "version_major": 2,
       "version_minor": 0
      },
      "text/html": [
       "<p>Failed to display Jupyter Widget of type <code>IntSlider</code>.</p>\n",
       "<p>\n",
       "  If you're reading this message in the Jupyter Notebook or JupyterLab Notebook, it may mean\n",
       "  that the widgets JavaScript is still loading. If this message persists, it\n",
       "  likely means that the widgets JavaScript library is either not installed or\n",
       "  not enabled. See the <a href=\"https://ipywidgets.readthedocs.io/en/stable/user_install.html\">Jupyter\n",
       "  Widgets Documentation</a> for setup instructions.\n",
       "</p>\n",
       "<p>\n",
       "  If you're reading this message in another frontend (for example, a static\n",
       "  rendering on GitHub or <a href=\"https://nbviewer.jupyter.org/\">NBViewer</a>),\n",
       "  it may mean that your frontend doesn't currently support widgets.\n",
       "</p>\n"
      ],
      "text/plain": [
       "IntSlider(value=0)"
      ]
     },
     "metadata": {},
     "output_type": "display_data"
    }
   ],
   "source": [
    "widgets.IntSlider()"
   ]
  },
  {
   "cell_type": "code",
   "execution_count": 2,
   "metadata": {},
   "outputs": [
    {
     "name": "stdout",
     "output_type": "stream",
     "text": [
      "[[ 0  1  2]\n",
      " [ 3  4  5]\n",
      " [ 6  7  8]\n",
      " [ 9 10 11]\n",
      " [12 13 14]\n",
      " [15 16 17]\n",
      " [18 19 20]\n",
      " [21 22 23]\n",
      " [24 25 26]\n",
      " [27 28 29]\n",
      " [30 31 32]\n",
      " [33 34 35]]\n"
     ]
    }
   ],
   "source": [
    "a = np.arange(36).reshape(12,3)\n",
    "print(a)"
   ]
  },
  {
   "cell_type": "code",
   "execution_count": 3,
   "metadata": {},
   "outputs": [
    {
     "name": "stdout",
     "output_type": "stream",
     "text": [
      "Shape: (12, 3) N_Dim: 2 Size: 36 Type: <class 'numpy.ndarray'>\n"
     ]
    }
   ],
   "source": [
    "print(\"Shape: {} N_Dim: {} Size: {} Type: {}\".format(a.shape, a.ndim, a.size, type(a)))"
   ]
  },
  {
   "cell_type": "markdown",
   "metadata": {},
   "source": [
    "# Ways to create Arrays"
   ]
  },
  {
   "cell_type": "code",
   "execution_count": 4,
   "metadata": {},
   "outputs": [
    {
     "name": "stdout",
     "output_type": "stream",
     "text": [
      "[2 3 4] int32\n",
      "[2. 3. 4.] float64\n",
      "\n",
      "Sequence of sequences:\n",
      "\n",
      "[[1 2 3]\n",
      " [4 5 6]]\n",
      "\n",
      "Explicit data type:\n",
      "\n",
      "[[1.+0.j 2.+0.j]\n",
      " [3.+0.j 4.+0.j]]\n"
     ]
    }
   ],
   "source": [
    "a = np.array([2,3,4])\n",
    "print(a, a.dtype)\n",
    "b = np.array([2.,3.,4.])\n",
    "print(b, b.dtype)\n",
    "# Sequence of sequence => 2D array\n",
    "c = np.array([[1,2,3], [4,5,6]])\n",
    "print('\\nSequence of sequences:\\n\\n{}'.format(c))\n",
    "# Explicit data type\n",
    "d = np.array([[1,2],[3,4]], dtype=complex)\n",
    "print('\\nExplicit data type:\\n\\n{}'.format(d))"
   ]
  },
  {
   "cell_type": "markdown",
   "metadata": {},
   "source": [
    "## Placeholders"
   ]
  },
  {
   "cell_type": "code",
   "execution_count": 5,
   "metadata": {},
   "outputs": [
    {
     "name": "stdout",
     "output_type": "stream",
     "text": [
      "[[0. 0. 0.]\n",
      " [0. 0. 0.]]\n",
      "[[1.+0.j 1.+0.j 1.+0.j 1.+0.j 1.+0.j 1.+0.j]\n",
      " [1.+0.j 1.+0.j 1.+0.j 1.+0.j 1.+0.j 1.+0.j]\n",
      " [1.+0.j 1.+0.j 1.+0.j 1.+0.j 1.+0.j 1.+0.j]\n",
      " [1.+0.j 1.+0.j 1.+0.j 1.+0.j 1.+0.j 1.+0.j]\n",
      " [1.+0.j 1.+0.j 1.+0.j 1.+0.j 1.+0.j 1.+0.j]]\n",
      "[[     0      0      0      0   1000      0]\n",
      " [     0      0      5      0      0      0]\n",
      " [ -1552 -19914    526      0      0      0]\n",
      " [     0      0      7      3      0      0]\n",
      " [ -6880 -19997    526      0      0      0]]\n"
     ]
    }
   ],
   "source": [
    "print(np.zeros((2,3), dtype = np.float64))\n",
    "print(np.ones((5,6), dtype=np.complex))\n",
    "print(np.empty((5,6), dtype=np.int16))"
   ]
  },
  {
   "cell_type": "markdown",
   "metadata": {},
   "source": [
    "## Create sequences of array type"
   ]
  },
  {
   "cell_type": "code",
   "execution_count": 6,
   "metadata": {},
   "outputs": [
    {
     "name": "stdout",
     "output_type": "stream",
     "text": [
      "\n",
      "Range:\n",
      "\n",
      "[10 15 20 25]\n",
      "\n",
      "\n",
      "\n",
      "Range:\n",
      "\n",
      "[ 0  1  2  3  4  5  6  7  8  9 10 11 12 13 14 15 16 17 18 19 20 21 22 23\n",
      " 24 25 26 27 28 29 30 31 32 33 34 35 36 37 38 39]\n",
      "\n",
      "\n",
      "\n",
      "Range:\n",
      "\n",
      "[ 1.   3.5  6.   8.5 11. ]\n",
      "\n",
      "\n"
     ]
    }
   ],
   "source": [
    "def out(rng):\n",
    "    print('\\nRange:\\n\\n{}\\n\\n'.format(rng))\n",
    "out(np.arange(10, 30, 5))\n",
    "out(np.arange(40))\n",
    "out(np.arange(1,12.5,2.5))\n"
   ]
  },
  {
   "cell_type": "markdown",
   "metadata": {},
   "source": [
    "But arange gives an unpredictably sized output cos of floating point arithmetic, so do this instead:"
   ]
  },
  {
   "cell_type": "code",
   "execution_count": 7,
   "metadata": {},
   "outputs": [
    {
     "name": "stdout",
     "output_type": "stream",
     "text": [
      "[0.   0.25 0.5  0.75 1.   1.25 1.5  1.75 2.  ]\n",
      "\n",
      "Tan over [0,pi/2]:\n",
      "\n",
      "\n",
      "[0.00000000e+00 1.58679612e-02 3.17439152e-02 4.76358711e-02\n",
      " 6.35518701e-02 7.95000022e-02 9.54884223e-02 1.11525367e-01\n",
      " 1.27619174e-01 1.43778294e-01 1.60011316e-01 1.76326981e-01\n",
      " 1.92734202e-01 2.09242088e-01 2.25859960e-01 2.42597375e-01\n",
      " 2.59464150e-01 2.76470386e-01 2.93626493e-01 3.10943217e-01\n",
      " 3.28431672e-01 3.46103365e-01 3.63970234e-01 3.82044681e-01\n",
      " 4.00339609e-01 4.18868463e-01 4.37645272e-01 4.56684698e-01\n",
      " 4.76002082e-01 4.95613502e-01 5.15535831e-01 5.35786798e-01\n",
      " 5.56385058e-01 5.77350269e-01 5.98703173e-01 6.20465681e-01\n",
      " 6.42660977e-01 6.65313620e-01 6.88449662e-01 7.12096776e-01\n",
      " 7.36284401e-01 7.61043891e-01 7.86408692e-01 8.12414533e-01\n",
      " 8.39099631e-01 8.66504933e-01 8.94674368e-01 9.23655146e-01\n",
      " 9.53498074e-01 9.84257927e-01 1.01599385e+00 1.04876982e+00\n",
      " 1.08265515e+00 1.11772510e+00 1.15406152e+00 1.19175359e+00\n",
      " 1.23089871e+00 1.27160344e+00 1.31398466e+00 1.35817084e+00\n",
      " 1.40430351e+00 1.45253902e+00 1.50305055e+00 1.55603037e+00\n",
      " 1.61169269e+00 1.67027677e+00 1.73205081e+00 1.79731642e+00\n",
      " 1.86641404e+00 1.93972938e+00 2.01770128e+00 2.10083115e+00\n",
      " 2.18969456e+00 2.28495556e+00 2.38738432e+00 2.49787924e+00\n",
      " 2.61749489e+00 2.74747742e+00 2.88931025e+00 3.04477334e+00\n",
      " 3.21602127e+00 3.40568724e+00 3.61702392e+00 3.85409699e+00\n",
      " 4.12205614e+00 4.42752225e+00 4.77915322e+00 5.18849269e+00\n",
      " 5.67128182e+00 6.24955800e+00 6.95515277e+00 7.83581315e+00\n",
      " 8.96656988e+00 1.04724738e+01 1.25786160e+01 1.57351782e+01\n",
      " 2.09925835e+01 3.15021003e+01 6.30200685e+01 1.63312394e+16]\n"
     ]
    }
   ],
   "source": [
    "lin = np.linspace(0,2,9) # 9 numbers from 0 to 2\n",
    "print(lin)\n",
    "\n",
    "# Let's evaluate tan at a bunch of points...\n",
    "print('\\nTan over [0,pi/2]:\\n\\n')\n",
    "domain = np.linspace(0, np.pi/2, 100)\n",
    "print(np.tan(domain))"
   ]
  },
  {
   "cell_type": "markdown",
   "metadata": {},
   "source": [
    "# Operations"
   ]
  },
  {
   "cell_type": "code",
   "execution_count": 8,
   "metadata": {},
   "outputs": [
    {
     "name": "stdout",
     "output_type": "stream",
     "text": [
      "a is: [20 30 40 50]\n",
      "b is: [0 1 2 3]\n",
      "a-b is: [20 29 38 47]\n",
      "b**2 is:[0 1 4 9]\n",
      "a <35 is:[ True  True False False]\n"
     ]
    }
   ],
   "source": [
    "a = np.array([20,30,40,50])\n",
    "b = np.arange(4)\n",
    "print('a is: {}\\nb is: {}\\na-b is: {}\\nb**2 is:{}\\na <35 is:{}'.format(a,b,a-b, b**2, a<35))"
   ]
  },
  {
   "cell_type": "markdown",
   "metadata": {},
   "source": [
    "Matrix multiplication:"
   ]
  },
  {
   "cell_type": "code",
   "execution_count": 9,
   "metadata": {},
   "outputs": [
    {
     "name": "stdout",
     "output_type": "stream",
     "text": [
      "A is \n",
      "[[0 1]\n",
      " [2 3]]\n",
      "B is \n",
      "[[ 4  6]\n",
      " [ 8 10]]\n",
      " A * B is\n",
      "[[ 0  6]\n",
      " [16 30]]\n",
      " A.dot(B) is\n",
      "[[ 8 10]\n",
      " [32 42]]\n"
     ]
    }
   ],
   "source": [
    "A = np.arange(4).reshape(2,2)\n",
    "B = np.arange(4, 11, 2).reshape(2,2)\n",
    "print('A is \\n{}\\nB is \\n{}\\n A * B is\\n{}\\n A.dot(B) is\\n{}'.format(A, B, A*B, A.dot(B)))\n",
    "# Or you can write np.dot(A,B)"
   ]
  },
  {
   "cell_type": "markdown",
   "metadata": {},
   "source": [
    "Reductions:"
   ]
  },
  {
   "cell_type": "code",
   "execution_count": 10,
   "metadata": {},
   "outputs": [
    {
     "name": "stdout",
     "output_type": "stream",
     "text": [
      "6\n",
      "0\n",
      "3\n",
      "Or you can sum, floating along a particular axis:\n",
      "\n",
      "Sum of columns of A:\n",
      "[2 4]\n"
     ]
    }
   ],
   "source": [
    "print('{}\\n{}\\n{}'.format(A.sum(), A.min(), A.max()))\n",
    "print('Or you can sum, floating along a particular axis:\\n')\n",
    "print('Sum of columns of A:')\n",
    "print(A.sum(axis=0)) # = [a00+a10, a01+a11], axis is the one that varies"
   ]
  },
  {
   "cell_type": "markdown",
   "metadata": {},
   "source": [
    "So what happens if it's a multi-dimensional matrix?"
   ]
  },
  {
   "cell_type": "code",
   "execution_count": 11,
   "metadata": {},
   "outputs": [
    {
     "name": "stdout",
     "output_type": "stream",
     "text": [
      "Starting matrix:\n",
      "[[[ 0  1  2]\n",
      "  [ 3  4  5]\n",
      "  [ 6  7  8]]\n",
      "\n",
      " [[ 9 10 11]\n",
      "  [12 13 14]\n",
      "  [15 16 17]]\n",
      "\n",
      " [[18 19 20]\n",
      "  [21 22 23]\n",
      "  [24 25 26]]]\n",
      "\n",
      "Sum over axis 0:\n",
      "[[27 30 33]\n",
      " [36 39 42]\n",
      " [45 48 51]]\n",
      "\n",
      "Sum over axis 0, summed over axis 1:\n",
      "[ 90 117 144]\n"
     ]
    }
   ],
   "source": [
    "D = np.arange(27).reshape(3,3,3)\n",
    "print('Starting matrix:')\n",
    "print(D)\n",
    "# D[a][b][c] = d_abc\n",
    "print('\\nSum over axis 0:')\n",
    "print(D.sum(axis=0)) # = [[d000+d100+d200]... etc... 3x3 mtx generated by varying d_ijk over jk]\n",
    "print('\\nSum over axis 0, summed over axis 1:') # [e00 + e01 + e02, e10 + e11 + e12, etc]\n",
    "# Prediction: [90, 117, 144]\n",
    "print(D.sum(axis=0).sum(axis=1))"
   ]
  },
  {
   "cell_type": "markdown",
   "metadata": {},
   "source": [
    "## Shape Manipulation"
   ]
  },
  {
   "cell_type": "code",
   "execution_count": 12,
   "metadata": {},
   "outputs": [
    {
     "name": "stdout",
     "output_type": "stream",
     "text": [
      "[[9. 2. 2. 8.]\n",
      " [3. 1. 8. 5.]\n",
      " [4. 4. 0. 8.]]\n",
      "[9. 2. 2. 8. 3. 1. 8. 5. 4. 4. 0. 8.]\n",
      "[[9. 2.]\n",
      " [2. 8.]\n",
      " [3. 1.]\n",
      " [8. 5.]\n",
      " [4. 4.]\n",
      " [0. 8.]]\n",
      "[[9. 3. 4.]\n",
      " [2. 1. 4.]\n",
      " [2. 8. 0.]\n",
      " [8. 5. 8.]]\n",
      "[[9. 2. 2. 8.]\n",
      " [3. 1. 8. 5.]\n",
      " [4. 4. 0. 8.]]\n",
      "[[9. 2. 2. 8. 3. 1.]\n",
      " [8. 5. 4. 4. 0. 8.]]\n",
      "[[9. 2.]\n",
      " [2. 8.]\n",
      " [3. 1.]\n",
      " [8. 5.]\n",
      " [4. 4.]\n",
      " [0. 8.]]\n"
     ]
    }
   ],
   "source": [
    "a = np.floor(10*np.random.random((3,4)))\n",
    "print(a)\n",
    "# Doesn't change a...\n",
    "b = a.ravel()\n",
    "print(b)\n",
    "print(a.reshape(6,2))\n",
    "print(a.T)\n",
    "print(a)\n",
    "# Does change a...\n",
    "a.resize((2,6))\n",
    "print(a)\n",
    "# Can leave a dimension implict (numPy does the factorization for us)\n",
    "print(a.reshape(6,-1))"
   ]
  },
  {
   "cell_type": "markdown",
   "metadata": {},
   "source": [
    "S"
   ]
  }
 ],
 "metadata": {
  "kernelspec": {
   "display_name": "Python 3",
   "language": "python",
   "name": "python3"
  },
  "language_info": {
   "codemirror_mode": {
    "name": "ipython",
    "version": 3
   },
   "file_extension": ".py",
   "mimetype": "text/x-python",
   "name": "python",
   "nbconvert_exporter": "python",
   "pygments_lexer": "ipython3",
   "version": "3.6.0"
  }
 },
 "nbformat": 4,
 "nbformat_minor": 2
}
